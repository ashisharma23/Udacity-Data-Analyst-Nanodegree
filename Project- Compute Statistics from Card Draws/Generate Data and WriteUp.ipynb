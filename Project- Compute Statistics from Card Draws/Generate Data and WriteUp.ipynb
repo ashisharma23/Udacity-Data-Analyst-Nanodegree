{
 "cells": [
  {
   "cell_type": "markdown",
   "metadata": {},
   "source": [
    "Generate Data"
   ]
  },
  {
   "cell_type": "markdown",
   "metadata": {},
   "source": [
    "\n",
    "Now that you've computed statistics for a single card draw, we're going to look at the statistics for the sum of scores when making three card draws. Since there are so many ways of drawing three cards from a deck of cards, we're going to approach this using sampling to make estimates.\n",
    "\n",
    "In each trial, cards will be drawn without replacement, meaning that in a single set of three, each card can appear at most once. After each trial, the cards that were drawn are shuffled back in the deck so that they could be drawn again in the following trial.\n",
    "\n",
    "You can generate card draws in two ways. First of all, you can use the quiz box below to generate data for you. Trials will be organized into individual rows. Each card is encoded as a string consisting of the rank (A, 2-10, J, Q, K) followed by the suit (c, d, h, s). Thirty trials will be performed for your analysis. Alternatively, you can perform the sampling procedure using a physical deck of cards. Make sure that you only replace and shuffle the cards into the deck after each set of three cards is drawn. Collect at least thirty trials for your analysis."
   ]
  },
  {
   "cell_type": "code",
   "execution_count": 111,
   "metadata": {
    "collapsed": true
   },
   "outputs": [],
   "source": [
    "import pandas as pd\n",
    "import random\n",
    "import numpy as np\n",
    "import matplotlib.pyplot as plt\n",
    "import math"
   ]
  },
  {
   "cell_type": "code",
   "execution_count": 112,
   "metadata": {
    "collapsed": true
   },
   "outputs": [],
   "source": [
    "numOfCardsDraw = 3\n",
    "sampleSize = 10000\n",
    "cards = ['Ac', '2c', '3c', '4c', '5c', '6c', '7c', '8c', '9c', '10c', 'Jc', 'Qc', 'Kc',\\\n",
    "            'Ad', '2d', '3d', '4d', '5d', '6d', '7d', '8d', '9d','10d', 'Jd', 'Qd', 'Kd',\\\n",
    "            'Ah', '2h', '3h', '4h', '5h', '6h', '7h', '8h', '9h', '10h', 'Jh', 'Qh', 'Kh',\\\n",
    "            'As', '2s', '3s', '4s', '5s', '6s', '7s', '8s', '9s', '10s', 'Js', 'Qs', 'Ks']\n",
    "population = [random.sample(cards, numOfCardsDraw) for _ in range(sampleSize)] "
   ]
  },
  {
   "cell_type": "markdown",
   "metadata": {},
   "source": [
    "First, create a histogram depicting the relative frequencies of the card values for a single draw. Report the mean, median, and standard deviation of the value distribution. (You should have performed this step in the Distribution of Card Values section.)"
   ]
  },
  {
   "cell_type": "code",
   "execution_count": 118,
   "metadata": {},
   "outputs": [
    {
     "ename": "TypeError",
     "evalue": "'int' object is not callable",
     "output_type": "error",
     "traceback": [
      "\u001b[1;31m---------------------------------------------------------------------------\u001b[0m",
      "\u001b[1;31mTypeError\u001b[0m                                 Traceback (most recent call last)",
      "\u001b[1;32m<ipython-input-118-9ef9e6f3ce9e>\u001b[0m in \u001b[0;36m<module>\u001b[1;34m()\u001b[0m\n\u001b[0;32m      3\u001b[0m \u001b[0msampleSize\u001b[0m \u001b[1;33m=\u001b[0m \u001b[1;36m10000\u001b[0m\u001b[1;33m\u001b[0m\u001b[0m\n\u001b[0;32m      4\u001b[0m \u001b[0mcards\u001b[0m \u001b[1;33m=\u001b[0m \u001b[1;33m[\u001b[0m\u001b[1;36m1\u001b[0m\u001b[1;33m,\u001b[0m \u001b[1;36m2\u001b[0m\u001b[1;33m,\u001b[0m \u001b[1;36m3\u001b[0m\u001b[1;33m,\u001b[0m \u001b[1;36m4\u001b[0m\u001b[1;33m,\u001b[0m \u001b[1;36m5\u001b[0m\u001b[1;33m,\u001b[0m \u001b[1;36m6\u001b[0m\u001b[1;33m,\u001b[0m \u001b[1;36m7\u001b[0m\u001b[1;33m,\u001b[0m \u001b[1;36m8\u001b[0m\u001b[1;33m,\u001b[0m \u001b[1;36m9\u001b[0m\u001b[1;33m,\u001b[0m \u001b[1;36m10\u001b[0m\u001b[1;33m,\u001b[0m \u001b[1;36m10\u001b[0m\u001b[1;33m,\u001b[0m \u001b[1;36m10\u001b[0m\u001b[1;33m,\u001b[0m \u001b[1;36m10\u001b[0m\u001b[1;33m,\u001b[0m            \u001b[1;36m1\u001b[0m\u001b[1;33m,\u001b[0m \u001b[1;36m2\u001b[0m\u001b[1;33m,\u001b[0m \u001b[1;36m3\u001b[0m\u001b[1;33m,\u001b[0m \u001b[1;36m4\u001b[0m\u001b[1;33m,\u001b[0m \u001b[1;36m5\u001b[0m\u001b[1;33m,\u001b[0m \u001b[1;36m6\u001b[0m\u001b[1;33m,\u001b[0m \u001b[1;36m7\u001b[0m\u001b[1;33m,\u001b[0m \u001b[1;36m8\u001b[0m\u001b[1;33m,\u001b[0m \u001b[1;36m9\u001b[0m\u001b[1;33m,\u001b[0m \u001b[1;36m10\u001b[0m\u001b[1;33m,\u001b[0m \u001b[1;36m10\u001b[0m\u001b[1;33m,\u001b[0m \u001b[1;36m10\u001b[0m\u001b[1;33m,\u001b[0m \u001b[1;36m10\u001b[0m\u001b[1;33m,\u001b[0m             \u001b[1;36m1\u001b[0m\u001b[1;33m,\u001b[0m \u001b[1;36m2\u001b[0m\u001b[1;33m,\u001b[0m \u001b[1;36m3\u001b[0m\u001b[1;33m,\u001b[0m \u001b[1;36m4\u001b[0m\u001b[1;33m,\u001b[0m \u001b[1;36m5\u001b[0m\u001b[1;33m,\u001b[0m \u001b[1;36m6\u001b[0m\u001b[1;33m,\u001b[0m \u001b[1;36m7\u001b[0m\u001b[1;33m,\u001b[0m \u001b[1;36m8\u001b[0m\u001b[1;33m,\u001b[0m \u001b[1;36m9\u001b[0m\u001b[1;33m,\u001b[0m \u001b[1;36m10\u001b[0m\u001b[1;33m,\u001b[0m \u001b[1;36m10\u001b[0m\u001b[1;33m,\u001b[0m \u001b[1;36m10\u001b[0m\u001b[1;33m,\u001b[0m \u001b[1;36m10\u001b[0m\u001b[1;33m,\u001b[0m            \u001b[1;36m1\u001b[0m\u001b[1;33m,\u001b[0m \u001b[1;36m2\u001b[0m\u001b[1;33m,\u001b[0m \u001b[1;36m3\u001b[0m\u001b[1;33m,\u001b[0m \u001b[1;36m4\u001b[0m\u001b[1;33m,\u001b[0m \u001b[1;36m5\u001b[0m\u001b[1;33m,\u001b[0m \u001b[1;36m6\u001b[0m\u001b[1;33m,\u001b[0m \u001b[1;36m7\u001b[0m\u001b[1;33m,\u001b[0m \u001b[1;36m8\u001b[0m\u001b[1;33m,\u001b[0m \u001b[1;36m9\u001b[0m\u001b[1;33m,\u001b[0m \u001b[1;36m10\u001b[0m\u001b[1;33m,\u001b[0m \u001b[1;36m10\u001b[0m\u001b[1;33m,\u001b[0m \u001b[1;36m10\u001b[0m\u001b[1;33m,\u001b[0m \u001b[1;36m10\u001b[0m\u001b[1;33m]\u001b[0m\u001b[1;33m\u001b[0m\u001b[0m\n\u001b[1;32m----> 5\u001b[1;33m \u001b[0mpopulation\u001b[0m \u001b[1;33m=\u001b[0m \u001b[1;33m[\u001b[0m\u001b[0msum\u001b[0m\u001b[1;33m(\u001b[0m\u001b[0mrandom\u001b[0m\u001b[1;33m.\u001b[0m\u001b[0msample\u001b[0m\u001b[1;33m(\u001b[0m\u001b[0mcards\u001b[0m\u001b[1;33m,\u001b[0m \u001b[0mnumOfCardsDraw\u001b[0m\u001b[1;33m)\u001b[0m\u001b[1;33m)\u001b[0m \u001b[1;32mfor\u001b[0m \u001b[0m_\u001b[0m \u001b[1;32min\u001b[0m \u001b[0mrange\u001b[0m\u001b[1;33m(\u001b[0m\u001b[0msampleSize\u001b[0m\u001b[1;33m)\u001b[0m\u001b[1;33m]\u001b[0m\u001b[1;33m\u001b[0m\u001b[0m\n\u001b[0m",
      "\u001b[1;32m<ipython-input-118-9ef9e6f3ce9e>\u001b[0m in \u001b[0;36m<listcomp>\u001b[1;34m(.0)\u001b[0m\n\u001b[0;32m      3\u001b[0m \u001b[0msampleSize\u001b[0m \u001b[1;33m=\u001b[0m \u001b[1;36m10000\u001b[0m\u001b[1;33m\u001b[0m\u001b[0m\n\u001b[0;32m      4\u001b[0m \u001b[0mcards\u001b[0m \u001b[1;33m=\u001b[0m \u001b[1;33m[\u001b[0m\u001b[1;36m1\u001b[0m\u001b[1;33m,\u001b[0m \u001b[1;36m2\u001b[0m\u001b[1;33m,\u001b[0m \u001b[1;36m3\u001b[0m\u001b[1;33m,\u001b[0m \u001b[1;36m4\u001b[0m\u001b[1;33m,\u001b[0m \u001b[1;36m5\u001b[0m\u001b[1;33m,\u001b[0m \u001b[1;36m6\u001b[0m\u001b[1;33m,\u001b[0m \u001b[1;36m7\u001b[0m\u001b[1;33m,\u001b[0m \u001b[1;36m8\u001b[0m\u001b[1;33m,\u001b[0m \u001b[1;36m9\u001b[0m\u001b[1;33m,\u001b[0m \u001b[1;36m10\u001b[0m\u001b[1;33m,\u001b[0m \u001b[1;36m10\u001b[0m\u001b[1;33m,\u001b[0m \u001b[1;36m10\u001b[0m\u001b[1;33m,\u001b[0m \u001b[1;36m10\u001b[0m\u001b[1;33m,\u001b[0m            \u001b[1;36m1\u001b[0m\u001b[1;33m,\u001b[0m \u001b[1;36m2\u001b[0m\u001b[1;33m,\u001b[0m \u001b[1;36m3\u001b[0m\u001b[1;33m,\u001b[0m \u001b[1;36m4\u001b[0m\u001b[1;33m,\u001b[0m \u001b[1;36m5\u001b[0m\u001b[1;33m,\u001b[0m \u001b[1;36m6\u001b[0m\u001b[1;33m,\u001b[0m \u001b[1;36m7\u001b[0m\u001b[1;33m,\u001b[0m \u001b[1;36m8\u001b[0m\u001b[1;33m,\u001b[0m \u001b[1;36m9\u001b[0m\u001b[1;33m,\u001b[0m \u001b[1;36m10\u001b[0m\u001b[1;33m,\u001b[0m \u001b[1;36m10\u001b[0m\u001b[1;33m,\u001b[0m \u001b[1;36m10\u001b[0m\u001b[1;33m,\u001b[0m \u001b[1;36m10\u001b[0m\u001b[1;33m,\u001b[0m             \u001b[1;36m1\u001b[0m\u001b[1;33m,\u001b[0m \u001b[1;36m2\u001b[0m\u001b[1;33m,\u001b[0m \u001b[1;36m3\u001b[0m\u001b[1;33m,\u001b[0m \u001b[1;36m4\u001b[0m\u001b[1;33m,\u001b[0m \u001b[1;36m5\u001b[0m\u001b[1;33m,\u001b[0m \u001b[1;36m6\u001b[0m\u001b[1;33m,\u001b[0m \u001b[1;36m7\u001b[0m\u001b[1;33m,\u001b[0m \u001b[1;36m8\u001b[0m\u001b[1;33m,\u001b[0m \u001b[1;36m9\u001b[0m\u001b[1;33m,\u001b[0m \u001b[1;36m10\u001b[0m\u001b[1;33m,\u001b[0m \u001b[1;36m10\u001b[0m\u001b[1;33m,\u001b[0m \u001b[1;36m10\u001b[0m\u001b[1;33m,\u001b[0m \u001b[1;36m10\u001b[0m\u001b[1;33m,\u001b[0m            \u001b[1;36m1\u001b[0m\u001b[1;33m,\u001b[0m \u001b[1;36m2\u001b[0m\u001b[1;33m,\u001b[0m \u001b[1;36m3\u001b[0m\u001b[1;33m,\u001b[0m \u001b[1;36m4\u001b[0m\u001b[1;33m,\u001b[0m \u001b[1;36m5\u001b[0m\u001b[1;33m,\u001b[0m \u001b[1;36m6\u001b[0m\u001b[1;33m,\u001b[0m \u001b[1;36m7\u001b[0m\u001b[1;33m,\u001b[0m \u001b[1;36m8\u001b[0m\u001b[1;33m,\u001b[0m \u001b[1;36m9\u001b[0m\u001b[1;33m,\u001b[0m \u001b[1;36m10\u001b[0m\u001b[1;33m,\u001b[0m \u001b[1;36m10\u001b[0m\u001b[1;33m,\u001b[0m \u001b[1;36m10\u001b[0m\u001b[1;33m,\u001b[0m \u001b[1;36m10\u001b[0m\u001b[1;33m]\u001b[0m\u001b[1;33m\u001b[0m\u001b[0m\n\u001b[1;32m----> 5\u001b[1;33m \u001b[0mpopulation\u001b[0m \u001b[1;33m=\u001b[0m \u001b[1;33m[\u001b[0m\u001b[0msum\u001b[0m\u001b[1;33m(\u001b[0m\u001b[0mrandom\u001b[0m\u001b[1;33m.\u001b[0m\u001b[0msample\u001b[0m\u001b[1;33m(\u001b[0m\u001b[0mcards\u001b[0m\u001b[1;33m,\u001b[0m \u001b[0mnumOfCardsDraw\u001b[0m\u001b[1;33m)\u001b[0m\u001b[1;33m)\u001b[0m \u001b[1;32mfor\u001b[0m \u001b[0m_\u001b[0m \u001b[1;32min\u001b[0m \u001b[0mrange\u001b[0m\u001b[1;33m(\u001b[0m\u001b[0msampleSize\u001b[0m\u001b[1;33m)\u001b[0m\u001b[1;33m]\u001b[0m\u001b[1;33m\u001b[0m\u001b[0m\n\u001b[0m",
      "\u001b[1;31mTypeError\u001b[0m: 'int' object is not callable"
     ]
    }
   ],
   "source": [
    "# For drawing 3 cards per experiment.\n",
    "numOfCardsDraw = 3\n",
    "sampleSize = 10000\n",
    "cards = [1, 2, 3, 4, 5, 6, 7, 8, 9, 10, 10, 10, 10,\\\n",
    "            1, 2, 3, 4, 5, 6, 7, 8, 9, 10, 10, 10, 10, \\\n",
    "            1, 2, 3, 4, 5, 6, 7, 8, 9, 10, 10, 10, 10,\\\n",
    "            1, 2, 3, 4, 5, 6, 7, 8, 9, 10, 10, 10, 10]\n",
    "population = [sum(random.sample(cards, numOfCardsDraw)) for _ in range(sampleSize)]"
   ]
  },
  {
   "cell_type": "raw",
   "metadata": {},
   "source": [
    "Values generated as per Generate Data(seed = 2324):\n",
    "Jd 8s 6c\n",
    "4d 3s 7s\n",
    "7s Kc Jd\n",
    "8h Js 7s\n",
    "Jh Qh As\n",
    "2d Js 10c\n",
    "9h 5d Qh\n",
    "Js 9h 3d\n",
    "9d 3h Ah\n",
    "10s 2h Ac\n",
    "8s 3c 5d\n",
    "Kd 10h Qh\n",
    "Jd As 9c\n",
    "3s 5c Ac\n",
    "Ac 3h 10d\n",
    "Jc 8s 7h\n",
    "10h 6c 2d\n",
    "7d 7h 8c\n",
    "9h 4c 10s\n",
    "3h 6d Qc\n",
    "3c 6c 2c\n",
    "Ac As 2s\n",
    "10c 4h 8s\n",
    "5s 7c 7s\n",
    "9s 10s 4s\n",
    "9c 2s 6h\n",
    "7d Ks 9s\n",
    "7c 5s 10h\n",
    "Js 3s Qc\n",
    "6s 5d 9c"
   ]
  },
  {
   "cell_type": "code",
   "execution_count": 114,
   "metadata": {},
   "outputs": [
    {
     "name": "stdout",
     "output_type": "stream",
     "text": [
      "[24, 14, 27, 25, 21, 22, 24, 22, 13, 13, 16, 30, 20, 9, 14, 25, 18, 22, 23, 19, 11, 4, 22, 19, 23, 17, 26, 22, 23, 20]\n"
     ]
    }
   ],
   "source": [
    "generatedData = [\n",
    "['Jd','8s','6c']\n",
    ",['4d','3s','7s']\n",
    ",['7s','Kc','Jd']\n",
    ",['8h','Js','7s']\n",
    ",['Jh','Qh','As']\n",
    ",['2d','Js','10c']\n",
    ",['9h','5d','Qh']\n",
    ",['Js','9h','3d']\n",
    ",['9d','3h','Ah']\n",
    ",['10s','2h','Ac']\n",
    ",['8s','3c','5d']\n",
    ",['Kd','10h','Qh']\n",
    ",['Jd','As','9c']\n",
    ",['3s','5c','Ac']\n",
    ",['Ac','3h','10d']\n",
    ",['Jc','8s','7h']\n",
    ",['10h','6c','2d']\n",
    ",['7d','7h','8c']\n",
    ",['9h','4c','10s']\n",
    ",['3h','6d','Qc']\n",
    ",['3c','6c','2c']\n",
    ",['Ac','As','2s']\n",
    ",['10c','4h','8s']\n",
    ",['5s','7c','7s']\n",
    ",['9s','10s','4s']\n",
    ",['9c','2s','6h']\n",
    ",['7d','Ks','9s']\n",
    ",['7c','5s','10h']\n",
    ",['Js','3s','Qc']\n",
    ",['6s','5d','9c']\n",
    "]\n",
    "mapVal = {'A':1,'2':2,'3':3,'4':4,'5':5,'6':6,'7':7,'8':8,'9':9,'10':10,'J':10,'Q':10,'K':10}\n",
    "\n",
    "sample=[]\n",
    "for record in generatedData:\n",
    "        totalCardValue=0\n",
    "        for cardValue in record:\n",
    "                totalCardValue = totalCardValue + mapVal[cardValue[0:-1]]\n",
    "        sample.append(totalCardValue)\n",
    "print(sample)\n",
    "    "
   ]
  },
  {
   "cell_type": "code",
   "execution_count": 100,
   "metadata": {},
   "outputs": [
    {
     "data": {
      "image/png": "[encoded data removed]",
      "text/plain": [
       "<matplotlib.figure.Figure at 0x1a296794630>"
      ]
     },
     "metadata": {},
     "output_type": "display_data"
    }
   ],
   "source": [
    "plt.hist(sample, bins='auto') \n",
    "plt.title('Histogram of Card Values') \n",
    "plt.xlabel('Value of Card Drawn')\n",
    "plt.ylabel('Frequency')\n",
    "plt.xticks(range(31))\n",
    "plt.show()"
   ]
  },
  {
   "cell_type": "markdown",
   "metadata": {},
   "source": [
    "Take a look at the distribution of the three-card sums from the samples that you obtained, either from Generate Data, or from your own collection. Report descriptive statistics for the samples you have drawn. Include at least two measures of central tendency and two measures of variability."
   ]
  },
  {
   "cell_type": "code",
   "execution_count": 116,
   "metadata": {},
   "outputs": [
    {
     "name": "stdout",
     "output_type": "stream",
     "text": [
      "Mean = 19.600000 , Median = 21.500000 , Mode = 22.000000 , Variance = 33.420690 , Standard Deviation = 5.781063\n",
      "Quantile(50 percent) = 21.500000 , interquartile range = 6.750000\n"
     ]
    },
    {
     "data": {
      "text/plain": [
       "count    30.000000\n",
       "mean     19.600000\n",
       "std       5.781063\n",
       "min       4.000000\n",
       "25%      16.250000\n",
       "50%      21.500000\n",
       "75%      23.000000\n",
       "max      30.000000\n",
       "dtype: float64"
      ]
     },
     "execution_count": 116,
     "metadata": {},
     "output_type": "execute_result"
    }
   ],
   "source": [
    "samSeries = pd.Series(sample)\n",
    "mean = samSeries.mean()\n",
    "median = samSeries.median()\n",
    "std = samSeries.std()\n",
    "mode = samSeries.mode()\n",
    "variance = samSeries.var()\n",
    "\n",
    "print(\"Mean = %f , Median = %f , Mode = %f , Variance = %f , Standard Deviation = %f\" %(mean,median,mode,variance,std))\n",
    "\n",
    "quantile50 = samSeries.quantile()\n",
    "quantile25 = samSeries.quantile(q=0.25)\n",
    "quantile75 = samSeries.quantile(q=0.75)\n",
    "\n",
    "IQR = quantile75 - quantile25\n",
    "print(\"Quantile(50 percent) = %f , interquartile range = %f\" %(quantile50,IQR))\n",
    "\n",
    "samSeries.describe()\n"
   ]
  },
  {
   "cell_type": "markdown",
   "metadata": {},
   "source": [
    "Create a histogram of the sampled three-card sums. Compare its shape to that of the original distribution. How are they different, and can you explain why this is the case?"
   ]
  },
  {
   "cell_type": "code",
   "execution_count": 117,
   "metadata": {},
   "outputs": [
    {
     "data": {
      "image/png": "[encoded data removed]",
      "text/plain": [
       "<matplotlib.figure.Figure at 0x1a29603b828>"
      ]
     },
     "metadata": {},
     "output_type": "display_data"
    }
   ],
   "source": [
    "plt.hist(sample, bins='auto') \n",
    "plt.title('Histogram of Card Values') \n",
    "plt.xlabel('Value of Card Drawn')\n",
    "plt.ylabel('Frequency')\n",
    "plt.xticks(range(31))\n",
    "plt.show()"
   ]
  },
  {
   "cell_type": "raw",
   "metadata": {},
   "source": [
    "Despite the fact that the original distribution was highly skewed, you probably saw that your sample data was less skewed in nature. The reason for this is the central limit theorem. While it is normally stated to describe the sampling distribution of the mean, it also works for the sum, since it's just scaling by a constant (the number of data points).\n",
    "\n",
    "Note that the original formulation of the central limit theorem actually assumes independence between observations that are summed or averaged. In this case, the sample size is small relative to the size of the population (3/52) that failing to meet the assumption of independence is no big deal for us."
   ]
  },
  {
   "cell_type": "markdown",
   "metadata": {},
   "source": [
    "Make some estimates about values you would get on future draws. Within what range will you expect approximately 90% of your draw values to fall?"
   ]
  },
  {
   "cell_type": "raw",
   "metadata": {},
   "source": [
    "The mean for this sample is 19.600000 \n",
    "Standard Deviation for this sample is 5.781063\n",
    "In order to find out the 90% of approximate value ,we need to reduce 5% from the tail on each side of normal distribution.\n",
    "So for range, we need to find out -\n",
    "value which is greater than 95% of values\n",
    "value which is less than 95% of the values\n",
    "\n",
    "z-score for value which is less than 95% of the values i.e .9500 probability is  1.645\n",
    "=> range will lie between -1.645 and 1.645 of z -score.\n",
    "=> \n",
    "x(low) = (-1.645*5.78) + 19.6 = 10.0919 ~= 10\n",
    "x(high) = (1.645*5.78) + 19.6 = 29.1081 ~= 29\n",
    "Hence, approximately 90% of your draw values to fall will fall between 10 and 20 :)"
   ]
  },
  {
   "cell_type": "markdown",
   "metadata": {},
   "source": [
    "What is the approximate probability that you will get a draw value of at least 20? Make sure you justify how you obtained your values. Link to z-table : https://s3.amazonaws.com/udacity-hosted-downloads/ZTable.jpg"
   ]
  },
  {
   "cell_type": "markdown",
   "metadata": {},
   "source": [
    "Further refering https://discussions.udacity.com/t/evaluate-answers-seed-50/252527/4, to find the answer\n",
    "we need to find first find z-score using x=19.5\n",
    "=>z-score = (19.5-19.6)/5.78 =-0.01730103806228398= -.02\n",
    "The probabilty of finding < -.02 z-score is 0.4920 as per z-table\n",
    "Therefore , approximate probability that you will get a draw value of at least 20 = 1 - 0.4920 = 0.508\n"
   ]
  },
  {
   "cell_type": "markdown",
   "metadata": {},
   "source": [
    "The normal distribution is used to estimate these values, following the central limit theorem. Note that values have been computed exactly, rather than using a table, so there might be slight differences between your results and the grader. In addition, the grader assumes the discrete outputs to be centered on bars with bins at the half-integer values. For example, a sum of 20 is generated when the normal distribution rolls a value between 19.5 and 20.5.\n",
    "\n",
    "90% of all draw sums should fall between 10 and 29.\n",
    "\n",
    "Draws of at least 20 should occur with probability approximately 0.5069."
   ]
  },
  {
   "cell_type": "code",
   "execution_count": null,
   "metadata": {
    "collapsed": true
   },
   "outputs": [],
   "source": []
  }
 ],
 "metadata": {
  "kernelspec": {
   "display_name": "Python 3",
   "language": "python",
   "name": "python3"
  },
  "language_info": {
   "codemirror_mode": {
    "name": "ipython",
    "version": 3
   },
   "file_extension": ".py",
   "mimetype": "text/x-python",
   "name": "python",
   "nbconvert_exporter": "python",
   "pygments_lexer": "ipython3",
   "version": "3.6.1"
  }
 },
 "nbformat": 4,
 "nbformat_minor": 2
}
