{
 "cells": [
  {
   "cell_type": "markdown",
   "metadata": {},
   "source": [
    "# Distribution of Card Values"
   ]
  },
  {
   "cell_type": "markdown",
   "metadata": {},
   "source": [
    "To begin, make a histogram representing the relative frequencies of the card values from a single draw. Once you've done that, fill in the checkbox to check your work.\n",
    "In this case the 'experiment' is a 'single draw' from a deck of cards. So, the histogram that represents this 'experiment' has to mimic drawing a card from a deck of cards by plotting the 'relative frequencies of the card values from a single draw`."
   ]
  },
  {
   "cell_type": "code",
   "execution_count": 168,
   "metadata": {
    "collapsed": true
   },
   "outputs": [],
   "source": [
    "import pandas as pd\n",
    "import random\n",
    "import numpy as np\n",
    "import math\n",
    "import matplotlib.pyplot as plt"
   ]
  },
  {
   "cell_type": "code",
   "execution_count": 174,
   "metadata": {
    "collapsed": true
   },
   "outputs": [],
   "source": [
    "# For drawing 3 cards\n",
    "# For drawing 1 card per experiment.\n",
    "numOfCardsDraw = 1\n",
    "sampleSize = 10000\n",
    "cards = [1, 2, 3, 4, 5, 6, 7, 8, 9, 10, 10, 10, 10,\\\n",
    "            1, 2, 3, 4, 5, 6, 7, 8, 9, 10, 10, 10, 10, \\\n",
    "            1, 2, 3, 4, 5, 6, 7, 8, 9, 10, 10, 10, 10,\\\n",
    "            1, 2, 3, 4, 5, 6, 7, 8, 9, 10, 10, 10, 10]\n",
    "population = [sum(random.sample(cards, numOfCardsDraw)) for _ in range(sampleSize)] \n",
    "\n"
   ]
  },
  {
   "cell_type": "code",
   "execution_count": 175,
   "metadata": {},
   "outputs": [
    {
     "data": {
      "image/png": "[encoded data removed]",
      "text/plain": [
       "<matplotlib.figure.Figure at 0x14e5df7ee10>"
      ]
     },
     "metadata": {},
     "output_type": "display_data"
    }
   ],
   "source": [
    "plt.hist(population, bins='auto') \n",
    "plt.title('Histogram of Card Values') \n",
    "plt.xlabel('Value of Card Drawn')\n",
    "plt.ylabel('Frequency')\n",
    "plt.xticks(range(11))\n",
    "plt.show()"
   ]
  },
  {
   "cell_type": "markdown",
   "metadata": {},
   "source": [
    "Mean card value\n",
    "What is the mean of the card values for a single draw? (round to 2 decimal points)"
   ]
  },
  {
   "cell_type": "code",
   "execution_count": 176,
   "metadata": {},
   "outputs": [
    {
     "name": "stdout",
     "output_type": "stream",
     "text": [
      "6.51\n"
     ]
    }
   ],
   "source": [
    "# --Simple way mean = round(sum(population)/len(population), 2)\n",
    "popSeries = pd.Series(population)\n",
    "mean = round(popSeries.mean(),2)\n",
    "print(mean)"
   ]
  },
  {
   "cell_type": "markdown",
   "metadata": {},
   "source": [
    "Median card value\n",
    "What is the median of the card values for a single draw? (round to 2 decimal points)"
   ]
  },
  {
   "cell_type": "code",
   "execution_count": 177,
   "metadata": {},
   "outputs": [
    {
     "name": "stdout",
     "output_type": "stream",
     "text": [
      "6.0\n",
      "0    10\n",
      "dtype: int64\n",
      "7.0\n"
     ]
    }
   ],
   "source": [
    "'''Simple Way ---\n",
    "population.sort()\n",
    "if (len(population) %2 == 0) :\n",
    "    i = int(len(population)/2)\n",
    "    median = ( population[i] + population[i + 1] ) /2\n",
    "else:\n",
    "    median = population[round(len(population)/2)]\n",
    "'''\n",
    "median = round(popSeries.median(),2)\n",
    "print(popSeries.quantile(q=0.40))\n",
    "print(popSeries.mode())\n",
    "print(median)    "
   ]
  },
  {
   "cell_type": "markdown",
   "metadata": {},
   "source": [
    "Standard Deviation of values\n",
    "What is the standard deviation of the card values for a single draw? (round to 2 decimal points)"
   ]
  },
  {
   "cell_type": "code",
   "execution_count": 178,
   "metadata": {},
   "outputs": [
    {
     "name": "stdout",
     "output_type": "stream",
     "text": [
      "Mean = 6.510000 , Median = 7.000000 , Mode = 10.000000 , Variance = 9.945656 , Standard Deviation = 3.150000\n"
     ]
    }
   ],
   "source": [
    "#mse = Mean squared error\n",
    "mse = [math.pow(x-mean,2) for x in population]\n",
    "variance = sum(mse)/len(mse)\n",
    "std = round(math.sqrt(variance),2)\n",
    "mode = popSeries.mode()\n",
    "\n",
    "print(\"Mean = %f , Median = %f , Mode = %f , Variance = %f , Standard Deviation = %f\" %(mean,median,mode,variance,std))"
   ]
  },
  {
   "cell_type": "markdown",
   "metadata": {},
   "source": [
    "Absolute Deviation or Mean Absolute Deviation\n",
    "\n",
    "The Absolute Deviation is calculated like this: first, we calculate the mean of the values; then, we calculate the distance of each point from this average; after that, we sum these distances and finally we divide the result by the mean of the distances."
   ]
  },
  {
   "cell_type": "code",
   "execution_count": 179,
   "metadata": {},
   "outputs": [
    {
     "name": "stdout",
     "output_type": "stream",
     "text": [
      "Mean Absolute Deviation = 2.809307\n"
     ]
    }
   ],
   "source": [
    "print(\"Mean Absolute Deviation = %f\" % popSeries.mad())"
   ]
  },
  {
   "cell_type": "code",
   "execution_count": null,
   "metadata": {
    "collapsed": true
   },
   "outputs": [],
   "source": []
  },
  {
   "cell_type": "code",
   "execution_count": null,
   "metadata": {
    "collapsed": true
   },
   "outputs": [],
   "source": []
  },
  {
   "cell_type": "code",
   "execution_count": null,
   "metadata": {
    "collapsed": true
   },
   "outputs": [],
   "source": []
  }
 ],
 "metadata": {
  "kernelspec": {
   "display_name": "Python 3",
   "language": "python",
   "name": "python3"
  },
  "language_info": {
   "codemirror_mode": {
    "name": "ipython",
    "version": 3
   },
   "file_extension": ".py",
   "mimetype": "text/x-python",
   "name": "python",
   "nbconvert_exporter": "python",
   "pygments_lexer": "ipython3",
   "version": "3.6.1"
  }
 },
 "nbformat": 4,
 "nbformat_minor": 2
}
