{
 "cells": [
  {
   "cell_type": "markdown",
   "metadata": {},
   "source": [
    "# Distribution of Card Values"
   ]
  },
  {
   "cell_type": "markdown",
   "metadata": {},
   "source": [
    "To begin, make a histogram representing the relative frequencies of the card values from a single draw. Once you've done that, fill in the checkbox to check your work."
   ]
  },
  {
   "cell_type": "code",
   "execution_count": 127,
   "metadata": {},
   "outputs": [],
   "source": [
    "import pandas as pd\n",
    "import random\n",
    "import numpy as np\n",
    "import math"
   ]
  },
  {
   "cell_type": "code",
   "execution_count": 138,
   "metadata": {},
   "outputs": [],
   "source": [
    "# For drawing 3 cards\n",
    "# For drawing 1 card per experiment.\n",
    "numOfCardsDraw = 1\n",
    "sampleSize = 10000\n",
    "cards = [1, 2, 3, 4, 5, 6, 7, 8, 9, 10, 10, 10, 10,\\\n",
    "            1, 2, 3, 4, 5, 6, 7, 8, 9, 10, 10, 10, 10, \\\n",
    "            1, 2, 3, 4, 5, 6, 7, 8, 9, 10, 10, 10, 10,\\\n",
    "            1, 2, 3, 4, 5, 6, 7, 8, 9, 10, 10, 10, 10]\n",
    "population = [sum(random.sample(cards, numOfCardsDraw)) for _ in range(sampleSize)] \n",
    "\n"
   ]
  },
  {
   "cell_type": "code",
   "execution_count": 139,
   "metadata": {},
   "outputs": [
    {
     "data": {
      "image/png": "[encoded data removed]",
      "text/plain": [
       "<matplotlib.figure.Figure at 0x14e5de78dd8>"
      ]
     },
     "metadata": {},
     "output_type": "display_data"
    }
   ],
   "source": [
    "plt.hist(population, bins='auto') \n",
    "plt.title('Histogram of Card Values') \n",
    "plt.xlabel('Value of Card Drawn')\n",
    "plt.ylabel('Frequency')\n",
    "plt.xticks(range(11))\n",
    "plt.show()"
   ]
  },
  {
   "cell_type": "markdown",
   "metadata": {},
   "source": [
    "Mean card value\n",
    "What is the mean of the card values for a single draw? (round to 2 decimal points)"
   ]
  },
  {
   "cell_type": "code",
   "execution_count": 140,
   "metadata": {},
   "outputs": [
    {
     "name": "stdout",
     "output_type": "stream",
     "text": [
      "6.55\n"
     ]
    }
   ],
   "source": [
    "mean = round(sum(population)/len(population), 2)\n",
    "print(mean)"
   ]
  },
  {
   "cell_type": "markdown",
   "metadata": {},
   "source": [
    "Median card value\n",
    "What is the median of the card values for a single draw? (round to 2 decimal points)"
   ]
  },
  {
   "cell_type": "code",
   "execution_count": 141,
   "metadata": {},
   "outputs": [
    {
     "name": "stdout",
     "output_type": "stream",
     "text": [
      "7.0\n"
     ]
    }
   ],
   "source": [
    "population.sort()\n",
    "if (len(population) %2 == 0) :\n",
    "    i = int(len(population)/2)\n",
    "    median = ( population[i] + population[i + 1] ) /2\n",
    "else:\n",
    "    median = population[round(len(population)/2)]\n",
    "print(median)\n",
    "    "
   ]
  },
  {
   "cell_type": "markdown",
   "metadata": {},
   "source": [
    "Standard Deviation of values\n",
    "What is the standard deviation of the card values for a single draw? (round to 2 decimal points)"
   ]
  },
  {
   "cell_type": "code",
   "execution_count": 142,
   "metadata": {},
   "outputs": [
    {
     "name": "stdout",
     "output_type": "stream",
     "text": [
      "3.15\n"
     ]
    }
   ],
   "source": [
    "#mse = Mean squared error\n",
    "mse = [math.pow(x-mean,2) for x in population]\n",
    "variance = sum(mse)/len(mse)\n",
    "sd = round(math.sqrt(variance),2)\n",
    "print(sd)\n"
   ]
  },
  {
   "cell_type": "code",
   "execution_count": null,
   "metadata": {
    "collapsed": true
   },
   "outputs": [],
   "source": []
  },
  {
   "cell_type": "code",
   "execution_count": null,
   "metadata": {
    "collapsed": true
   },
   "outputs": [],
   "source": []
  },
  {
   "cell_type": "code",
   "execution_count": null,
   "metadata": {
    "collapsed": true
   },
   "outputs": [],
   "source": []
  },
  {
   "cell_type": "code",
   "execution_count": null,
   "metadata": {
    "collapsed": true
   },
   "outputs": [],
   "source": []
  },
  {
   "cell_type": "code",
   "execution_count": null,
   "metadata": {
    "collapsed": true
   },
   "outputs": [],
   "source": []
  }
 ],
 "metadata": {
  "kernelspec": {
   "display_name": "Python 3",
   "language": "python",
   "name": "python3"
  },
  "language_info": {
   "codemirror_mode": {
    "name": "ipython",
    "version": 3
   },
   "file_extension": ".py",
   "mimetype": "text/x-python",
   "name": "python",
   "nbconvert_exporter": "python",
   "pygments_lexer": "ipython3",
   "version": "3.6.1"
  }
 },
 "nbformat": 4,
 "nbformat_minor": 2
}
