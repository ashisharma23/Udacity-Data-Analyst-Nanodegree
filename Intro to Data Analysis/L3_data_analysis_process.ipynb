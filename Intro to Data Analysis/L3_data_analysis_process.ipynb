{
 "cells": [
  {
   "cell_type": "markdown",
   "metadata": {},
   "source": [
    "Before we get started, a couple of reminders to keep in mind when using iPython notebooks:\n",
    "\n",
    "- Remember that you can see from the left side of a code cell when it was last run if there is a number within the brackets.\n",
    "- When you start a new notebook session, make sure you run all of the cells up to the point where you last left off. Even if the output is still visible from when you ran the cells in your previous session, the kernel starts in a fresh state so you'll need to reload the data, etc. on a new session.\n",
    "- The previous point is useful to keep in mind if your answers do not match what is expected in the lesson's quizzes. Try reloading the data and run all of the processing steps one by one in order to make sure that you are working with the same variables and data that are at each quiz stage.\n",
    "\n",
    "\n",
    "## Load Data from CSVs"
   ]
  },
  {
   "cell_type": "code",
   "execution_count": 1,
   "metadata": {},
   "outputs": [
    {
     "name": "stdout",
     "output_type": "stream",
     "text": [
      "Cell processing Complete\n"
     ]
    }
   ],
   "source": [
    "import unicodecsv\n",
    "\n",
    "## Longer version of code (replaced with shorter, equivalent version below)\n",
    "\n",
    "# enrollments = []\n",
    "# f = open('enrollments.csv', 'rb')\n",
    "# reader = unicodecsv.DictReader(f)\n",
    "# for row in reader:\n",
    "#     enrollments.append(row)\n",
    "# f.close()\n",
    "\n",
    "with open('enrollments.csv', 'rb') as f:\n",
    "    reader = unicodecsv.DictReader(f)\n",
    "    enrollments = list(reader)\n",
    "\n",
    "print(\"Cell processing Complete\")"
   ]
  },
  {
   "cell_type": "code",
   "execution_count": 2,
   "metadata": {},
   "outputs": [
    {
     "name": "stdout",
     "output_type": "stream",
     "text": [
      "OrderedDict([('account_key', '448'), ('status', 'canceled'), ('join_date', '2014-11-10'), ('cancel_date', '2015-01-14'), ('days_to_cancel', '65'), ('is_udacity', 'True'), ('is_canceled', 'True')])\n",
      "OrderedDict([('acct', '0'), ('utc_date', '2015-01-09'), ('num_courses_visited', '1.0'), ('total_minutes_visited', '11.6793745'), ('lessons_completed', '0.0'), ('projects_completed', '0.0')])\n",
      "OrderedDict([('creation_date', '2015-01-14'), ('completion_date', '2015-01-16'), ('assigned_rating', 'UNGRADED'), ('account_key', '256'), ('lesson_key', '3176718735'), ('processing_state', 'EVALUATED')])\n",
      "Cell processing Complete!\n"
     ]
    }
   ],
   "source": [
    "#####################################\n",
    "#                 1                 #\n",
    "#####################################\n",
    "\n",
    "## Read in the data from daily_engagement.csv and project_submissions.csv \n",
    "## and store the results in the below variables.\n",
    "## Then look at the first row of each table.\n",
    "def openCSV(filename) :\n",
    "    with open(filename,'rb') as f:\n",
    "        reader = unicodecsv.DictReader(f)\n",
    "        return list(reader)\n",
    "\n",
    "enrollments = openCSV('enrollments.csv')\n",
    "daily_engagement = openCSV('daily_engagement.csv')\n",
    "project_submissions = openCSV('project_submissions.csv')\n",
    "\n",
    "print(enrollments[0])\n",
    "print(daily_engagement[0])\n",
    "print(project_submissions[0])\n",
    "\n",
    "print(\"Cell processing Complete!\")"
   ]
  },
  {
   "cell_type": "markdown",
   "metadata": {},
   "source": [
    "## Fixing Data Types"
   ]
  },
  {
   "cell_type": "code",
   "execution_count": 3,
   "metadata": {},
   "outputs": [
    {
     "name": "stdout",
     "output_type": "stream",
     "text": [
      "Cell processing Complete!\n"
     ]
    }
   ],
   "source": [
    "from datetime import datetime as dt\n",
    "\n",
    "# Takes a date as a string, and returns a Python datetime object. \n",
    "# If there is no date given, returns None\n",
    "def parse_date(date):\n",
    "    if date == '':\n",
    "        return None\n",
    "    else:\n",
    "        return dt.strptime(date, '%Y-%m-%d')\n",
    "    \n",
    "# Takes a string which is either an empty string or represents an integer,\n",
    "# and returns an int or None.\n",
    "def parse_maybe_int(i):\n",
    "    if i == '':\n",
    "        return None\n",
    "    else:\n",
    "        return int(i)\n",
    "\n",
    "# Clean up the data types in the enrollments table\n",
    "for enrollment in enrollments:\n",
    "    enrollment['cancel_date'] = parse_date(enrollment['cancel_date'])\n",
    "    enrollment['days_to_cancel'] = parse_maybe_int(enrollment['days_to_cancel'])\n",
    "    enrollment['is_canceled'] = enrollment['is_canceled'] == 'True'\n",
    "    enrollment['is_udacity'] = enrollment['is_udacity'] == 'True'\n",
    "    enrollment['join_date'] = parse_date(enrollment['join_date'])\n",
    "enrollments[0]   \n",
    "print(\"Cell processing Complete!\")"
   ]
  },
  {
   "cell_type": "code",
   "execution_count": 4,
   "metadata": {},
   "outputs": [
    {
     "name": "stdout",
     "output_type": "stream",
     "text": [
      "Cell processing Complete!\n"
     ]
    }
   ],
   "source": [
    "# Clean up the data types in the engagement table\n",
    "for engagement_record in daily_engagement:\n",
    "    engagement_record['lessons_completed'] = int(float(engagement_record['lessons_completed']))\n",
    "    engagement_record['num_courses_visited'] = int(float(engagement_record['num_courses_visited']))\n",
    "    engagement_record['projects_completed'] = int(float(engagement_record['projects_completed']))\n",
    "    engagement_record['total_minutes_visited'] = float(engagement_record['total_minutes_visited'])\n",
    "    engagement_record['utc_date'] = parse_date(engagement_record['utc_date'])\n",
    "    \n",
    "daily_engagement[0]\n",
    "\n",
    "print(\"Cell processing Complete!\")"
   ]
  },
  {
   "cell_type": "code",
   "execution_count": 5,
   "metadata": {},
   "outputs": [
    {
     "name": "stdout",
     "output_type": "stream",
     "text": [
      "Cell processing Complete!\n"
     ]
    }
   ],
   "source": [
    "# Clean up the data types in the submissions table\n",
    "for submission in project_submissions:\n",
    "    submission['completion_date'] = parse_date(submission['completion_date'])\n",
    "    submission['creation_date'] = parse_date(submission['creation_date'])\n",
    "\n",
    "project_submissions[0]\n",
    "print(\"Cell processing Complete!\")"
   ]
  },
  {
   "cell_type": "markdown",
   "metadata": {},
   "source": [
    "Note when running the above cells that we are actively changing the contents of our data variables. If you try to run these cells multiple times in the same session, an error will occur.\n",
    "\n",
    "## Investigating the Data"
   ]
  },
  {
   "cell_type": "code",
   "execution_count": 6,
   "metadata": {},
   "outputs": [
    {
     "name": "stdout",
     "output_type": "stream",
     "text": [
      "0\n",
      "Cell processing Complete!\n"
     ]
    }
   ],
   "source": [
    "#####################################\n",
    "#                 3                 #\n",
    "#####################################\n",
    "\n",
    "## Rename the \"acct\" column in the daily_engagement table to \"account_key\".\n",
    "for engagement in daily_engagement:\n",
    "    engagement['account_key'] = engagement['acct']\n",
    "    del engagement['acct']\n",
    "\n",
    "print(daily_engagement[3]['account_key'])\n",
    "print(\"Cell processing Complete!\")"
   ]
  },
  {
   "cell_type": "code",
   "execution_count": 7,
   "metadata": {},
   "outputs": [
    {
     "name": "stdout",
     "output_type": "stream",
     "text": [
      "Cell processing Complete!\n"
     ]
    }
   ],
   "source": [
    "def get_unique_students(data):\n",
    "    return set(data_rec['account_key'] for data_rec in data)\n",
    "print(\"Cell processing Complete!\")"
   ]
  },
  {
   "cell_type": "code",
   "execution_count": 8,
   "metadata": {},
   "outputs": [
    {
     "name": "stdout",
     "output_type": "stream",
     "text": [
      "enrollment_num_rows = 1640\n",
      "enrollment_num_unique_students = 1302\n",
      "engagement_num_rows = 136240\n",
      "engagement_num_unique_students = 1237\n",
      "submission_num_rows = 3642\n",
      "submission_num_unique_students = 743\n",
      "Cell processing Complete!\n"
     ]
    }
   ],
   "source": [
    "#####################################\n",
    "#                 2                 #\n",
    "#####################################\n",
    "\n",
    "## Find the total number of rows and the number of unique students (account keys)\n",
    "## in each table.\n",
    "enrollment_num_rows = len(enrollments)             # Replace this with your code\n",
    "enrollment_num_unique_students = len(get_unique_students(enrollments))  # Replace this with your code\n",
    "\n",
    "engagement_num_rows = len(daily_engagement)              # Replace this with your code\n",
    "engagement_num_unique_students = len(get_unique_students(daily_engagement)) # Replace this with your code\n",
    "\n",
    "submission_num_rows = len(project_submissions)              # Replace this with your code\n",
    "submission_num_unique_students = len(get_unique_students(project_submissions))  # Replace this with your code\n",
    "\n",
    "print(\"enrollment_num_rows = \" + str(enrollment_num_rows))\n",
    "print(\"enrollment_num_unique_students = \" + str(enrollment_num_unique_students))\n",
    "\n",
    "print(\"engagement_num_rows = \" + str(engagement_num_rows))\n",
    "print(\"engagement_num_unique_students = \" + str(engagement_num_unique_students))\n",
    "\n",
    "print(\"submission_num_rows = \" + str(submission_num_rows))\n",
    "print(\"submission_num_unique_students = \" + str(submission_num_unique_students))\n",
    "\n",
    "print(\"Cell processing Complete!\")"
   ]
  },
  {
   "cell_type": "markdown",
   "metadata": {},
   "source": [
    "## Problems in the Data"
   ]
  },
  {
   "cell_type": "markdown",
   "metadata": {},
   "source": [
    "## Missing Engagement Records"
   ]
  },
  {
   "cell_type": "code",
   "execution_count": 9,
   "metadata": {},
   "outputs": [
    {
     "name": "stdout",
     "output_type": "stream",
     "text": [
      "OrderedDict([('account_key', '1219'), ('status', 'canceled'), ('join_date', datetime.datetime(2014, 11, 12, 0, 0)), ('cancel_date', datetime.datetime(2014, 11, 12, 0, 0)), ('days_to_cancel', 0), ('is_udacity', False), ('is_canceled', True)])\n",
      "71\n",
      "[OrderedDict([('account_key', '1304'), ('status', 'canceled'), ('join_date', datetime.datetime(2015, 1, 10, 0, 0)), ('cancel_date', datetime.datetime(2015, 3, 10, 0, 0)), ('days_to_cancel', 59), ('is_udacity', True), ('is_canceled', True)]), OrderedDict([('account_key', '1304'), ('status', 'canceled'), ('join_date', datetime.datetime(2015, 3, 10, 0, 0)), ('cancel_date', datetime.datetime(2015, 6, 17, 0, 0)), ('days_to_cancel', 99), ('is_udacity', True), ('is_canceled', True)]), OrderedDict([('account_key', '1101'), ('status', 'current'), ('join_date', datetime.datetime(2015, 2, 25, 0, 0)), ('cancel_date', None), ('days_to_cancel', None), ('is_udacity', True), ('is_canceled', False)])]\n",
      "Cell processing Complete!\n"
     ]
    }
   ],
   "source": [
    "#####################################\n",
    "#                 4                 #\n",
    "#####################################\n",
    "\n",
    "## Find any one student enrollments where the student is missing from the daily engagement table.\n",
    "## Output that enrollment.\n",
    "for enrollment in enrollments:\n",
    "    if(enrollment['account_key'] not in get_unique_students(daily_engagement)):\n",
    "        print(enrollment)\n",
    "        break\n",
    "        \n",
    "notEngaged = [x for x in enrollments if x['account_key'] not in get_unique_students(daily_engagement)]\n",
    "print(len(notEngaged))\n",
    "\n",
    "print([ x for x in notEngaged if x['days_to_cancel'] != 0])\n",
    "\n",
    "print(\"Cell processing Complete!\")       \n",
    "                \n"
   ]
  },
  {
   "cell_type": "markdown",
   "metadata": {},
   "source": [
    "## Checking for More Problem Records"
   ]
  },
  {
   "cell_type": "code",
   "execution_count": 10,
   "metadata": {},
   "outputs": [
    {
     "name": "stdout",
     "output_type": "stream",
     "text": [
      "OrderedDict([('account_key', '1304'), ('status', 'canceled'), ('join_date', datetime.datetime(2015, 1, 10, 0, 0)), ('cancel_date', datetime.datetime(2015, 3, 10, 0, 0)), ('days_to_cancel', 59), ('is_udacity', True), ('is_canceled', True)])\n",
      "OrderedDict([('account_key', '1304'), ('status', 'canceled'), ('join_date', datetime.datetime(2015, 3, 10, 0, 0)), ('cancel_date', datetime.datetime(2015, 6, 17, 0, 0)), ('days_to_cancel', 99), ('is_udacity', True), ('is_canceled', True)])\n",
      "OrderedDict([('account_key', '1101'), ('status', 'current'), ('join_date', datetime.datetime(2015, 2, 25, 0, 0)), ('cancel_date', None), ('days_to_cancel', None), ('is_udacity', True), ('is_canceled', False)])\n",
      "3\n",
      "Cell processing Complete!\n"
     ]
    }
   ],
   "source": [
    "#####################################\n",
    "#                 5                 #\n",
    "#####################################\n",
    "\n",
    "## Find the number of surprising data points (enrollments missing from\n",
    "## the engagement table) that remain, if any.\n",
    "exception_num = 0\n",
    "for enrollment in enrollments:\n",
    "    if(enrollment['account_key'] not in get_unique_students(daily_engagement) and enrollment['days_to_cancel'] != 0):\n",
    "        exception_num = exception_num + 1\n",
    "        print(enrollment)\n",
    "print(exception_num)\n",
    "\n",
    "print(\"Cell processing Complete!\")"
   ]
  },
  {
   "cell_type": "markdown",
   "metadata": {},
   "source": [
    "## Tracking Down the Remaining Problems"
   ]
  },
  {
   "cell_type": "code",
   "execution_count": 11,
   "metadata": {},
   "outputs": [
    {
     "name": "stdout",
     "output_type": "stream",
     "text": [
      "{'312', '448', '818', '1069', '1101', '1304'}\n",
      "Cell processing Complete!\n"
     ]
    }
   ],
   "source": [
    "# Create a set of the account keys for all Udacity test accounts\n",
    "#udacity_test_accounts = set()\n",
    "#for enrollment in enrollments:\n",
    " #   if enrollment['is_udacity']:\n",
    "  #      udacity_test_accounts.add(enrollment['account_key'])\n",
    "#print(len(udacity_test_accounts))\n",
    "\n",
    "udacity_test_accounts = set(x['account_key'] for x in enrollments if x['is_udacity'])\n",
    "print(udacity_test_accounts)\n",
    "\n",
    "print(\"Cell processing Complete!\")"
   ]
  },
  {
   "cell_type": "code",
   "execution_count": 12,
   "metadata": {},
   "outputs": [
    {
     "name": "stdout",
     "output_type": "stream",
     "text": [
      "Cell processing Complete!\n"
     ]
    }
   ],
   "source": [
    "# Given some data with an account_key field, removes any records corresponding to Udacity test accounts\n",
    "def remove_udacity_accounts(data):\n",
    "    non_udacity_data = []\n",
    "    for data_point in data:\n",
    "        if data_point['account_key'] not in udacity_test_accounts:\n",
    "            non_udacity_data.append(data_point)\n",
    "    return non_udacity_data\n",
    "\n",
    "print(\"Cell processing Complete!\")"
   ]
  },
  {
   "cell_type": "code",
   "execution_count": 13,
   "metadata": {},
   "outputs": [
    {
     "name": "stdout",
     "output_type": "stream",
     "text": [
      "1622\n",
      "135656\n",
      "3634\n",
      "OrderedDict([('utc_date', datetime.datetime(2015, 1, 9, 0, 0)), ('num_courses_visited', 1), ('total_minutes_visited', 11.6793745), ('lessons_completed', 0), ('projects_completed', 0), ('account_key', '0')])\n",
      "Cell processing Complete!\n"
     ]
    }
   ],
   "source": [
    "# Remove Udacity test accounts from all three tables\n",
    "non_udacity_enrollments = remove_udacity_accounts(enrollments)\n",
    "non_udacity_engagement = remove_udacity_accounts(daily_engagement)\n",
    "non_udacity_submissions = remove_udacity_accounts(project_submissions)\n",
    "\n",
    "print (len(non_udacity_enrollments))\n",
    "print (len(non_udacity_engagement))\n",
    "print (len(non_udacity_submissions))\n",
    "\n",
    "print (non_udacity_engagement[0])\n",
    "\n",
    "print(\"Cell processing Complete!\")\n"
   ]
  },
  {
   "cell_type": "markdown",
   "metadata": {},
   "source": [
    "## Refining the Question"
   ]
  },
  {
   "cell_type": "code",
   "execution_count": 14,
   "metadata": {},
   "outputs": [
    {
     "name": "stdout",
     "output_type": "stream",
     "text": [
      "995\n",
      "Cell processing Complete!\n"
     ]
    }
   ],
   "source": [
    "#####################################\n",
    "#                 6                 #\n",
    "#####################################\n",
    "\n",
    "## Create a dictionary named paid_students containing all students who either\n",
    "## haven't canceled yet or who remained enrolled for more than 7 days. The keys\n",
    "## should be account keys, and the values should be the date the student enrolled.\n",
    "\n",
    "paid_students = {}\n",
    "for rec in non_udacity_enrollments:\n",
    "    if (not rec['is_canceled'] or rec['days_to_cancel'] > 7):\n",
    "        account_key  = rec['account_key']\n",
    "        enrollment_date = rec['join_date']\n",
    "        if ((account_key not in paid_students) or (enrollment_date > paid_students[account_key])):\n",
    "            paid_students[account_key] = enrollment_date\n",
    "        \n",
    "print(len(paid_students))\n",
    "\n",
    "print(\"Cell processing Complete!\")"
   ]
  },
  {
   "cell_type": "markdown",
   "metadata": {},
   "source": [
    "## Getting Data from First Week"
   ]
  },
  {
   "cell_type": "code",
   "execution_count": 15,
   "metadata": {},
   "outputs": [
    {
     "name": "stdout",
     "output_type": "stream",
     "text": [
      "Cell processing Complete!\n"
     ]
    }
   ],
   "source": [
    "# Takes a student's join date and the date of a specific engagement record,\n",
    "# and returns True if that engagement record happened within one week\n",
    "# of the student joining.\n",
    "#Note that paid students may have canceled from other courses before paying, \n",
    "#and the suggested solution will retain records from these other enrollments.\n",
    "def within_one_week(join_date, engagement_date):\n",
    "    time_delta = engagement_date - join_date\n",
    "    return time_delta.days < 7 and time_delta.days >=0\n",
    "\n",
    "print(\"Cell processing Complete!\")"
   ]
  },
  {
   "cell_type": "code",
   "execution_count": 16,
   "metadata": {},
   "outputs": [
    {
     "name": "stdout",
     "output_type": "stream",
     "text": [
      "Cell processing Complete!\n"
     ]
    }
   ],
   "source": [
    "#####################################\n",
    "#                 7                 #\n",
    "#####################################\n",
    "\n",
    "## Create a list of rows from the engagement table including only rows where\n",
    "## the student is one of the paid students you just found, and the date is within\n",
    "## one week of the student's join date.\n",
    "def remove_free_trial_cancels(data):\n",
    "    new_data = list()\n",
    "    for data_point in data:\n",
    "        if(data_point['account_key'] in paid_students):\n",
    "            new_data.append(data_point)\n",
    "    return new_data\n",
    "\n",
    "paid_enrollments = remove_free_trial_cancels(non_udacity_enrollments)\n",
    "paid_engagement = remove_free_trial_cancels(non_udacity_engagement)\n",
    "paid_submissions = remove_free_trial_cancels(non_udacity_submissions)\n",
    "\n",
    "print(\"Cell processing Complete!\")"
   ]
  },
  {
   "cell_type": "code",
   "execution_count": 17,
   "metadata": {},
   "outputs": [
    {
     "name": "stdout",
     "output_type": "stream",
     "text": [
      "Cell processing Complete!\n"
     ]
    }
   ],
   "source": [
    "for rec in paid_engagement:\n",
    "    if rec['num_courses_visited'] > 0 :\n",
    "        rec['has_visited'] = 1\n",
    "    else:\n",
    "        rec['has_visited'] = 0\n",
    "        \n",
    "print(\"Cell processing Complete!\")"
   ]
  },
  {
   "cell_type": "code",
   "execution_count": 18,
   "metadata": {},
   "outputs": [
    {
     "name": "stdout",
     "output_type": "stream",
     "text": [
      "6919\n",
      "Cell processing Complete!\n"
     ]
    }
   ],
   "source": [
    "paid_engagement_in_first_week = [rec for rec in paid_engagement if within_one_week(paid_students[rec['account_key']],rec['utc_date'])]\n",
    "\n",
    "print(len(paid_engagement_in_first_week))\n",
    "\n",
    "print(\"Cell processing Complete!\")"
   ]
  },
  {
   "cell_type": "markdown",
   "metadata": {},
   "source": [
    "## Exploring Student Engagement"
   ]
  },
  {
   "cell_type": "code",
   "execution_count": 19,
   "metadata": {},
   "outputs": [
    {
     "name": "stdout",
     "output_type": "stream",
     "text": [
      "Cell processing Complete!\n"
     ]
    }
   ],
   "source": [
    "from collections import defaultdict\n",
    "\n",
    "# Create a dictionary of engagement grouped by student.\n",
    "# The keys are account keys, and the values are lists of engagement records.\n",
    "#engagement_by_account = defaultdict(list)\n",
    "#for engagement_record in paid_engagement_in_first_week:\n",
    " #   account_key = engagement_record['account_key']\n",
    "  #  engagement_by_account[account_key].append(engagement_record)\n",
    "    \n",
    "def group_data(data,keyname):\n",
    "    group_by_account = defaultdict(list)\n",
    "    for rec in data:\n",
    "        key = rec[keyname]\n",
    "        group_by_account[key].append(rec)\n",
    "    return group_by_account\n",
    "\n",
    "engagement_by_account = group_data(paid_engagement_in_first_week,'account_key')\n",
    "\n",
    "print(\"Cell processing Complete!\")"
   ]
  },
  {
   "cell_type": "code",
   "execution_count": 20,
   "metadata": {},
   "outputs": [
    {
     "name": "stdout",
     "output_type": "stream",
     "text": [
      "Cell processing Complete!\n"
     ]
    }
   ],
   "source": [
    "# Create a dictionary with the total minutes each student spent in the classroom during the first week.\n",
    "# The keys are account keys, and the values are numbers (total minutes)\n",
    "#total_minutes_by_account = {}\n",
    "#for account_key, engagement_for_student in engagement_by_account.items():\n",
    " #   total_minutes = 0\n",
    "  #  for engagement_record in engagement_for_student:\n",
    "   #     total_minutes += engagement_record['total_minutes_visited']\n",
    "    #total_minutes_by_account[account_key] = total_minutes\n",
    "    \n",
    "def sum_grouped_items(grouped_data, fieldname):\n",
    "    total_sum_byKey= {}\n",
    "    for key,data in grouped_data.items():\n",
    "        total_sum=0\n",
    "        for rec in data:\n",
    "            total_sum += rec[fieldname]\n",
    "        total_sum_byKey[key] = total_sum\n",
    "    return total_sum_byKey\n",
    "\n",
    "total_minutes_by_account = sum_grouped_items(engagement_by_account,'total_minutes_visited')\n",
    "\n",
    "print(\"Cell processing Complete!\")"
   ]
  },
  {
   "cell_type": "code",
   "execution_count": 59,
   "metadata": {},
   "outputs": [
    {
     "name": "stdout",
     "output_type": "stream",
     "text": [
      "Populating the interactive namespace from numpy and matplotlib\n",
      "Mean:306.708326753\n",
      "Standard deviation:412.996933409\n",
      "Minimum:0.0\n",
      "Maximum:3564.7332645\n"
     ]
    },
    {
     "data": {
      "image/png": "[encoded data removed]",
      "text/plain": [
       "<matplotlib.figure.Figure at 0x1f91dfd43c8>"
      ]
     },
     "metadata": {},
     "output_type": "display_data"
    },
    {
     "name": "stdout",
     "output_type": "stream",
     "text": [
      "Cell processing Complete!\n"
     ]
    }
   ],
   "source": [
    "import numpy as np\n",
    "%pylab inline\n",
    "import matplotlib.pyplot as plt\n",
    "\n",
    "def summarize_data(data):\n",
    "    total = list(data.values())\n",
    "    print ('Mean:' + str(np.mean(total)))\n",
    "    print ('Standard deviation:' + str(np.std(total)))\n",
    "    print ('Minimum:' + str(np.min(total)))\n",
    "    print ('Maximum:'+ str(np.max(total))) \n",
    "    plt.hist(total)\n",
    "    plt.show()\n",
    " \n",
    "summarize_data(total_minutes_by_account)\n",
    "# Summarize the data about minutes spent in the classroom\n",
    "#total_minutes = list(total_minutes_by_account.values())\n",
    "#mean = np.mean(total_minutes)\n",
    "#print ('Mean:' + str(np.mean(total_minutes)))\n",
    "#print ('Standard deviation:' + str(np.std(total_minutes)))\n",
    "#print ('Minimum:' + str(np.min(total_minutes)))\n",
    "#print ('Maximum:'+ str(np.max(total_minutes)))\n",
    "\n",
    "print(\"Cell processing Complete!\")"
   ]
  },
  {
   "cell_type": "markdown",
   "metadata": {},
   "source": [
    "## Debugging Data Analysis Code"
   ]
  },
  {
   "cell_type": "code",
   "execution_count": 22,
   "metadata": {},
   "outputs": [
    {
     "name": "stdout",
     "output_type": "stream",
     "text": [
      "163 3564.7332644989997\n",
      "2015-07-09 00:00:00 850.519339666\n",
      "2015-07-10 00:00:00 872.633923334\n",
      "2015-07-11 00:00:00 777.018903666\n",
      "2015-07-12 00:00:00 294.568774\n",
      "2015-07-13 00:00:00 471.2139785\n",
      "2015-07-14 00:00:00 298.778345333\n",
      "2015-07-15 00:00:00 0.0\n",
      "Cell processing Complete!\n"
     ]
    }
   ],
   "source": [
    "#####################################\n",
    "#                 8                 #\n",
    "#####################################\n",
    "\n",
    "## Go through a similar process as before to see if there is a problem.\n",
    "## Locate at least one surprising piece of data, output it, and take a look at it.\n",
    "student_with_max_minutes= None\n",
    "max_minutes = 0\n",
    "\n",
    "for student,total_minutes in total_minutes_by_account.items():\n",
    "    if total_minutes > max_minutes:\n",
    "        max_minutes = total_minutes\n",
    "        student_with_max_minutes = student\n",
    "print(student_with_max_minutes,max_minutes)    \n",
    "for rec in engagement_by_account[student_with_max_minutes]:\n",
    "    print(rec['utc_date'], rec['total_minutes_visited'])\n",
    "\n",
    "print(\"Cell processing Complete!\")\n"
   ]
  },
  {
   "cell_type": "markdown",
   "metadata": {},
   "source": [
    "## Lessons Completed in First Week"
   ]
  },
  {
   "cell_type": "code",
   "execution_count": 23,
   "metadata": {},
   "outputs": [
    {
     "name": "stdout",
     "output_type": "stream",
     "text": [
      "Mean:1.63618090452\n",
      "Standard deviation:3.00256129983\n",
      "Minimum:0\n",
      "Maximum:36\n",
      "633 36\n",
      "OrderedDict([('utc_date', datetime.datetime(2015, 7, 17, 0, 0)), ('num_courses_visited', 4), ('total_minutes_visited', 489.042620667), ('lessons_completed', 10), ('projects_completed', 0), ('account_key', '633'), ('has_visited', 1)])\n",
      "OrderedDict([('utc_date', datetime.datetime(2015, 7, 18, 0, 0)), ('num_courses_visited', 2), ('total_minutes_visited', 264.106566334), ('lessons_completed', 8), ('projects_completed', 0), ('account_key', '633'), ('has_visited', 1)])\n",
      "OrderedDict([('utc_date', datetime.datetime(2015, 7, 19, 0, 0)), ('num_courses_visited', 1), ('total_minutes_visited', 173.814019), ('lessons_completed', 3), ('projects_completed', 0), ('account_key', '633'), ('has_visited', 1)])\n",
      "OrderedDict([('utc_date', datetime.datetime(2015, 7, 20, 0, 0)), ('num_courses_visited', 2), ('total_minutes_visited', 259.304326334), ('lessons_completed', 6), ('projects_completed', 0), ('account_key', '633'), ('has_visited', 1)])\n",
      "OrderedDict([('utc_date', datetime.datetime(2015, 7, 21, 0, 0)), ('num_courses_visited', 1), ('total_minutes_visited', 108.428018), ('lessons_completed', 2), ('projects_completed', 0), ('account_key', '633'), ('has_visited', 1)])\n",
      "OrderedDict([('utc_date', datetime.datetime(2015, 7, 22, 0, 0)), ('num_courses_visited', 2), ('total_minutes_visited', 290.0114085), ('lessons_completed', 6), ('projects_completed', 0), ('account_key', '633'), ('has_visited', 1)])\n",
      "OrderedDict([('utc_date', datetime.datetime(2015, 7, 23, 0, 0)), ('num_courses_visited', 1), ('total_minutes_visited', 104.482101), ('lessons_completed', 1), ('projects_completed', 0), ('account_key', '633'), ('has_visited', 1)])\n",
      "Cell processing Complete!\n"
     ]
    }
   ],
   "source": [
    "#####################################\n",
    "#                 9                 #\n",
    "#####################################\n",
    "\n",
    "## Adapt the code above to find the mean, standard deviation, minimum, and maximum for\n",
    "## the number of lessons completed by each student during the first week. Try creating\n",
    "## one or more functions to re-use the code above.\n",
    "#lessons_completed_by_account = {}\n",
    "#for account_key, engagement_for_student in engagement_by_account.items():\n",
    " #   lessons_completed = 0\n",
    "  #  for engagement_record in engagement_for_student:\n",
    "   #     lessons_completed += engagement_record['lessons_completed']\n",
    "    #lessons_completed_by_account[account_key] = lessons_completed\n",
    "    \n",
    "import numpy as np\n",
    "\n",
    "# Summarize the data about minutes spent in the classroom\n",
    "#lessons_completed = list(lessons_completed_by_account.values())\n",
    "#mean = np.mean(lessons_completed)\n",
    "#print ('Mean:' + str(np.mean(lessons_completed)))\n",
    "#print ('Standard deviation:' + str(np.std(lessons_completed)))\n",
    "#print ('Minimum:' + str(np.min(lessons_completed)))\n",
    "#print ('Maximum:'+ str(np.max(lessons_completed)))\n",
    "\n",
    "lessons_completed_by_account = sum_grouped_items(engagement_by_account, 'lessons_completed')\n",
    "summarize_data(lessons_completed_by_account)\n",
    "\n",
    "student_with_max_lessons= None\n",
    "max_lesssons = 0\n",
    "\n",
    "for student,total_lessons in lessons_completed_by_account.items():\n",
    "    if total_lessons > max_lesssons:\n",
    "        max_lesssons = total_lessons\n",
    "        student_with_max_lessons = student\n",
    "\n",
    "print(student_with_max_lessons,max_lesssons)    \n",
    "for rec in engagement_by_account[student_with_max_lessons]:\n",
    "    print(rec)  \n",
    "    \n",
    "print(\"Cell processing Complete!\")"
   ]
  },
  {
   "cell_type": "markdown",
   "metadata": {},
   "source": [
    "## Number of Visits in First Week"
   ]
  },
  {
   "cell_type": "code",
   "execution_count": 24,
   "metadata": {
    "scrolled": false
   },
   "outputs": [
    {
     "name": "stdout",
     "output_type": "stream",
     "text": [
      "Mean:2.86733668342\n",
      "Standard deviation:2.25519800292\n",
      "Minimum:0\n",
      "Maximum:7\n",
      "Cell processing Complete!\n"
     ]
    }
   ],
   "source": [
    "######################################\n",
    "#                 10                 #\n",
    "######################################\n",
    "## Find the mean, standard deviation, minimum, and maximum for the number of\n",
    "## days each student visits the classroom during the first week.\n",
    "#Need to run this again\n",
    "engagement_by_account = group_data(paid_engagement_in_first_week,'account_key')\n",
    "numOfVisits_by_account = sum_grouped_items(engagement_by_account, 'has_visited')\n",
    "summarize_data(numOfVisits_by_account)\n",
    "\n",
    "print(\"Cell processing Complete!\")"
   ]
  },
  {
   "cell_type": "markdown",
   "metadata": {},
   "source": [
    "## Splitting out Passing Students"
   ]
  },
  {
   "cell_type": "code",
   "execution_count": 33,
   "metadata": {},
   "outputs": [
    {
     "name": "stdout",
     "output_type": "stream",
     "text": [
      "647\n",
      "4527\n",
      "2392\n",
      "Cell processing Complete!\n"
     ]
    }
   ],
   "source": [
    "######################################\n",
    "#                 11                 #\n",
    "######################################\n",
    "\n",
    "## Create two lists of engagement data for paid students in the first week.\n",
    "## The first list should contain data for students who eventually pass the\n",
    "## subway project, and the second list should contain data for students\n",
    "## who do not.\n",
    "\n",
    "subway_project_lesson_keys = ['746169184', '3176718735']\n",
    "\n",
    "passed_accounts = set(rec['account_key'] for rec in paid_submissions if rec['lesson_key'] in subway_project_lesson_keys and rec['assigned_rating']\n",
    "in ('PASSED','DISTINCTION'))\n",
    "print(len(passed_accounts))\n",
    "\n",
    "passing_engagement = []\n",
    "non_passing_engagement = []\n",
    "\n",
    "for rec in paid_engagement_in_first_week:\n",
    "    if rec['account_key'] in passed_accounts:\n",
    "        passing_engagement.append(rec)\n",
    "    else:\n",
    "        non_passing_engagement.append(rec)\n",
    "\n",
    "print(len(passing_engagement))\n",
    "print(len(non_passing_engagement))\n",
    "print(\"Cell processing Complete!\")"
   ]
  },
  {
   "cell_type": "markdown",
   "metadata": {},
   "source": [
    "## Comparing the Two Student Groups"
   ]
  },
  {
   "cell_type": "code",
   "execution_count": 60,
   "metadata": {},
   "outputs": [
    {
     "name": "stdout",
     "output_type": "stream",
     "text": [
      "passing_engagement_total_minutes_visited!\n",
      "Mean:394.586046484\n",
      "Standard deviation:448.499519327\n",
      "Minimum:0.0\n",
      "Maximum:3564.7332645\n"
     ]
    },
    {
     "data": {
      "image/png": "[encoded data removed]",
      "text/plain": [
       "<matplotlib.figure.Figure at 0x1f91dd27588>"
      ]
     },
     "metadata": {},
     "output_type": "display_data"
    },
    {
     "name": "stdout",
     "output_type": "stream",
     "text": [
      "non_passing_engagement_byacctKeyt_total_minutes_visited!\n",
      "Mean:143.326474267\n",
      "Standard deviation:269.538619011\n",
      "Minimum:0.0\n",
      "Maximum:1768.52274933\n"
     ]
    },
    {
     "data": {
      "image/png": "[encoded data removed]",
      "text/plain": [
       "<matplotlib.figure.Figure at 0x1f91debfd30>"
      ]
     },
     "metadata": {},
     "output_type": "display_data"
    },
    {
     "name": "stdout",
     "output_type": "stream",
     "text": [
      "****************************************************************\n",
      "passing_engagement_lessons_completed!\n",
      "Mean:2.05255023184\n",
      "Standard deviation:3.14222705558\n",
      "Minimum:0\n",
      "Maximum:36\n"
     ]
    },
    {
     "data": {
      "image/png": "[encoded data removed]",
      "text/plain": [
       "<matplotlib.figure.Figure at 0x1f91e17fc50>"
      ]
     },
     "metadata": {},
     "output_type": "display_data"
    },
    {
     "name": "stdout",
     "output_type": "stream",
     "text": [
      "non_passing_engagement_byacctKey_lessons_completed!\n",
      "Mean:0.862068965517\n",
      "Standard deviation:2.54915994183\n",
      "Minimum:0\n",
      "Maximum:27\n"
     ]
    },
    {
     "data": {
      "image/png": "[encoded data removed]",
      "text/plain": [
       "<matplotlib.figure.Figure at 0x1f91e1de390>"
      ]
     },
     "metadata": {},
     "output_type": "display_data"
    },
    {
     "name": "stdout",
     "output_type": "stream",
     "text": [
      "****************************************************************\n",
      "passing_engagement_has_visited!\n",
      "Mean:3.38485316847\n",
      "Standard deviation:2.25882147092\n",
      "Minimum:0\n",
      "Maximum:7\n"
     ]
    },
    {
     "data": {
      "image/png": "[encoded data removed]",
      "text/plain": [
       "<matplotlib.figure.Figure at 0x1f91db34a90>"
      ]
     },
     "metadata": {},
     "output_type": "display_data"
    },
    {
     "name": "stdout",
     "output_type": "stream",
     "text": [
      "non_passing_engagement_byacctKey_has_visited!\n",
      "Mean:1.90517241379\n",
      "Standard deviation:1.90573144136\n",
      "Minimum:0\n",
      "Maximum:7\n"
     ]
    },
    {
     "data": {
      "image/png": "[encoded data removed]",
      "text/plain": [
       "<matplotlib.figure.Figure at 0x1f91da9bfd0>"
      ]
     },
     "metadata": {},
     "output_type": "display_data"
    },
    {
     "name": "stdout",
     "output_type": "stream",
     "text": [
      "****************************************************************\n",
      "Cell processing Complete!\n"
     ]
    }
   ],
   "source": [
    "######################################\n",
    "#                 12                 #\n",
    "######################################\n",
    "\n",
    "## Compute some metrics you're interested in and see how they differ for\n",
    "## students who pass the subway project vs. students who don't. A good\n",
    "## starting point would be the metrics we looked at earlier (minutes spent\n",
    "## in the classroom, lessons completed, and days visited).\n",
    "\n",
    "passing_engagement_byacctKey  = group_data(passing_engagement,'account_key')\n",
    "passing_engagement_total_minutes_visited = sum_grouped_items(passing_engagement_byacctKey, 'total_minutes_visited')\n",
    "passing_engagement_lessons_completed = sum_grouped_items(passing_engagement_byacctKey, 'lessons_completed')\n",
    "passing_engagement_has_visited = sum_grouped_items(passing_engagement_byacctKey, 'has_visited')\n",
    "\n",
    "non_passing_engagement_byacctKey  = group_data(non_passing_engagement,'account_key')\n",
    "non_passing_engagement_byacctKeyt_total_minutes_visited = sum_grouped_items(non_passing_engagement_byacctKey, 'total_minutes_visited')\n",
    "non_passing_engagement_byacctKey_lessons_completed = sum_grouped_items(non_passing_engagement_byacctKey, 'lessons_completed')\n",
    "non_passing_engagement_byacctKey_has_visited = sum_grouped_items(non_passing_engagement_byacctKey, 'has_visited')\n",
    "\n",
    "\n",
    "print(\"passing_engagement_total_minutes_visited!\")\n",
    "summarize_data(passing_engagement_total_minutes_visited)\n",
    "print(\"non_passing_engagement_byacctKeyt_total_minutes_visited!\")\n",
    "summarize_data(non_passing_engagement_byacctKeyt_total_minutes_visited)\n",
    "print(\"****************************************************************\")\n",
    "print(\"passing_engagement_lessons_completed!\")\n",
    "summarize_data(passing_engagement_lessons_completed)\n",
    "print(\"non_passing_engagement_byacctKey_lessons_completed!\")\n",
    "summarize_data(non_passing_engagement_byacctKey_lessons_completed)\n",
    "print(\"****************************************************************\")\n",
    "print(\"passing_engagement_has_visited!\")\n",
    "summarize_data(passing_engagement_has_visited)\n",
    "print(\"non_passing_engagement_byacctKey_has_visited!\")\n",
    "summarize_data(non_passing_engagement_byacctKey_has_visited)\n",
    "print(\"****************************************************************\")\n",
    "print(\"Cell processing Complete!\")\n",
    "\n"
   ]
  },
  {
   "cell_type": "markdown",
   "metadata": {},
   "source": [
    "## Making Histograms"
   ]
  },
  {
   "cell_type": "code",
   "execution_count": 61,
   "metadata": {},
   "outputs": [
    {
     "name": "stdout",
     "output_type": "stream",
     "text": [
      "passing_engagement_total_minutes_visited!\n",
      "Mean:394.586046484\n",
      "Standard deviation:448.499519327\n",
      "Minimum:0.0\n",
      "Maximum:3564.7332645\n"
     ]
    },
    {
     "data": {
      "image/png": "[encoded data removed]",
      "text/plain": [
       "<matplotlib.figure.Figure at 0x1f91dcf1048>"
      ]
     },
     "metadata": {},
     "output_type": "display_data"
    },
    {
     "name": "stdout",
     "output_type": "stream",
     "text": [
      "non_passing_engagement_byacctKeyt_total_minutes_visited!\n",
      "Mean:143.326474267\n",
      "Standard deviation:269.538619011\n",
      "Minimum:0.0\n",
      "Maximum:1768.52274933\n"
     ]
    },
    {
     "data": {
      "image/png": "[encoded data removed]",
      "text/plain": [
       "<matplotlib.figure.Figure at 0x1f91dab5320>"
      ]
     },
     "metadata": {},
     "output_type": "display_data"
    },
    {
     "name": "stdout",
     "output_type": "stream",
     "text": [
      "****************************************************************\n",
      "passing_engagement_lessons_completed!\n",
      "Mean:2.05255023184\n",
      "Standard deviation:3.14222705558\n",
      "Minimum:0\n",
      "Maximum:36\n"
     ]
    },
    {
     "data": {
      "image/png": "[encoded data removed]",
      "text/plain": [
       "<matplotlib.figure.Figure at 0x1f91db54e10>"
      ]
     },
     "metadata": {},
     "output_type": "display_data"
    },
    {
     "name": "stdout",
     "output_type": "stream",
     "text": [
      "non_passing_engagement_byacctKey_lessons_completed!\n",
      "Mean:0.862068965517\n",
      "Standard deviation:2.54915994183\n",
      "Minimum:0\n",
      "Maximum:27\n"
     ]
    },
    {
     "data": {
      "image/png": "[encoded data removed]",
      "text/plain": [
       "<matplotlib.figure.Figure at 0x1f91dbab550>"
      ]
     },
     "metadata": {},
     "output_type": "display_data"
    },
    {
     "name": "stdout",
     "output_type": "stream",
     "text": [
      "****************************************************************\n",
      "passing_engagement_has_visited!\n",
      "Mean:3.38485316847\n",
      "Standard deviation:2.25882147092\n",
      "Minimum:0\n",
      "Maximum:7\n"
     ]
    },
    {
     "data": {
      "image/png": "[encoded data removed]",
      "text/plain": [
       "<matplotlib.figure.Figure at 0x1f91dc35940>"
      ]
     },
     "metadata": {},
     "output_type": "display_data"
    },
    {
     "name": "stdout",
     "output_type": "stream",
     "text": [
      "non_passing_engagement_byacctKey_has_visited!\n",
      "Mean:1.90517241379\n",
      "Standard deviation:1.90573144136\n",
      "Minimum:0\n",
      "Maximum:7\n"
     ]
    },
    {
     "data": {
      "image/png": "[encoded data removed]",
      "text/plain": [
       "<matplotlib.figure.Figure at 0x1f91e047c50>"
      ]
     },
     "metadata": {},
     "output_type": "display_data"
    },
    {
     "name": "stdout",
     "output_type": "stream",
     "text": [
      "****************************************************************\n",
      "Cell processing Complete!\n"
     ]
    }
   ],
   "source": [
    "######################################\n",
    "#                 13                 #\n",
    "######################################\n",
    "\n",
    "## Make histograms of the three metrics we looked at earlier for both\n",
    "## students who passed the subway project and students who didn't. You\n",
    "## might also want to make histograms of any other metrics you examined.\n",
    "\n",
    "print(\"passing_engagement_total_minutes_visited!\")\n",
    "summarize_data(passing_engagement_total_minutes_visited)\n",
    "print(\"non_passing_engagement_byacctKeyt_total_minutes_visited!\")\n",
    "summarize_data(non_passing_engagement_byacctKeyt_total_minutes_visited)\n",
    "print(\"****************************************************************\")\n",
    "print(\"passing_engagement_lessons_completed!\")\n",
    "summarize_data(passing_engagement_lessons_completed)\n",
    "print(\"non_passing_engagement_byacctKey_lessons_completed!\")\n",
    "summarize_data(non_passing_engagement_byacctKey_lessons_completed)\n",
    "print(\"****************************************************************\")\n",
    "print(\"passing_engagement_has_visited!\")\n",
    "summarize_data(passing_engagement_has_visited)\n",
    "print(\"non_passing_engagement_byacctKey_has_visited!\")\n",
    "summarize_data(non_passing_engagement_byacctKey_has_visited)\n",
    "print(\"****************************************************************\")\n",
    "print(\"Cell processing Complete!\")\n",
    "\n"
   ]
  },
  {
   "cell_type": "markdown",
   "metadata": {},
   "source": [
    "## Improving Plots and Sharing Findings"
   ]
  },
  {
   "cell_type": "code",
   "execution_count": 67,
   "metadata": {},
   "outputs": [
    {
     "name": "stdout",
     "output_type": "stream",
     "text": [
      "Populating the interactive namespace from numpy and matplotlib\n"
     ]
    },
    {
     "data": {
      "image/png": "[encoded data removed]",
      "text/plain": [
       "<matplotlib.figure.Figure at 0x1f91db6d6a0>"
      ]
     },
     "metadata": {},
     "output_type": "display_data"
    },
    {
     "data": {
      "image/png": "[encoded data removed]",
      "text/plain": [
       "<matplotlib.figure.Figure at 0x1f91da93630>"
      ]
     },
     "metadata": {},
     "output_type": "display_data"
    },
    {
     "name": "stdout",
     "output_type": "stream",
     "text": [
      "Cell processing Complete!\n"
     ]
    }
   ],
   "source": [
    "######################################\n",
    "#                 14                 #\n",
    "######################################\n",
    "\n",
    "## Make a more polished version of at least one of your visualizations\n",
    "## from earlier. Try importing the seaborn library to make the visualization\n",
    "## look better, adding axis labels and a title, and changing one or more\n",
    "## arguments to the hist() function.\n",
    "import seaborn as sns\n",
    "import numpy as np\n",
    "%pylab inline\n",
    "import matplotlib.pyplot as plt\n",
    "\n",
    "\n",
    "plt.hist(list(non_passing_engagement_byacctKey_has_visited.values()), bins=8)\n",
    "plt.xlabel('Number of days')\n",
    "plt.title('Distribution of classroom visits in the first week ' + \n",
    "          'for students who do not pass the subway project')\n",
    "plt.show()\n",
    "plt.hist(list(passing_engagement_has_visited.values()), bins=8)\n",
    "plt.xlabel('Number of days')\n",
    "plt.title('Distribution of classroom visits in the first week ' + \n",
    "          'for students who pass the subway project')\n",
    "plt.show()\n",
    "print(\"Cell processing Complete!\")"
   ]
  },
  {
   "cell_type": "code",
   "execution_count": null,
   "metadata": {
    "collapsed": true
   },
   "outputs": [],
   "source": []
  },
  {
   "cell_type": "code",
   "execution_count": null,
   "metadata": {
    "collapsed": true
   },
   "outputs": [],
   "source": []
  }
 ],
 "metadata": {
  "kernelspec": {
   "display_name": "Python 3",
   "language": "python",
   "name": "python3"
  },
  "language_info": {
   "codemirror_mode": {
    "name": "ipython",
    "version": 3
   },
   "file_extension": ".py",
   "mimetype": "text/x-python",
   "name": "python",
   "nbconvert_exporter": "python",
   "pygments_lexer": "ipython3",
   "version": "3.6.1"
  }
 },
 "nbformat": 4,
 "nbformat_minor": 1
}
